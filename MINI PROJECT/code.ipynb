{
  "nbformat": 4,
  "nbformat_minor": 0,
  "metadata": {
    "colab": {
      "provenance": []
    },
    "kernelspec": {
      "name": "python3",
      "display_name": "Python 3"
    },
    "language_info": {
      "name": "python"
    }
  },
  "cells": [
    {
      "cell_type": "code",
      "execution_count": 1,
      "metadata": {
        "colab": {
          "base_uri": "https://localhost:8080/",
          "height": 106
        },
        "id": "aZRdNspEAGqc",
        "outputId": "53176b2f-4435-4ec8-8b69-28e3d24de054"
      },
      "outputs": [
        {
          "output_type": "error",
          "ename": "SyntaxError",
          "evalue": "invalid character '‘' (U+2018) (<ipython-input-1-5bc2c254cf85>, line 8)",
          "traceback": [
            "\u001b[0;36m  File \u001b[0;32m\"<ipython-input-1-5bc2c254cf85>\"\u001b[0;36m, line \u001b[0;32m8\u001b[0m\n\u001b[0;31m    df = pd.read_json(‘livedata.json’)\u001b[0m\n\u001b[0m                      ^\u001b[0m\n\u001b[0;31mSyntaxError\u001b[0m\u001b[0;31m:\u001b[0m invalid character '‘' (U+2018)\n"
          ]
        }
      ],
      "source": [
        "import numpy as np\n",
        "import pandas as pd\n",
        "import matplotlib.pyplot as plt\n",
        "import seaborn as sns\n",
        "%matplotlib inline\n",
        "import datetime as dt\n",
        "from sklearn.cluster import DBSCAN\n",
        "df = pd.read_json(‘livedata.json’)\n",
        "df.head()\n",
        "\n",
        "def get_infected_names(input_name):\n",
        "\n",
        "    epsilon = 0.0018288 # a radial distance of 6 feet in kilometers\n",
        "    model = DBSCAN(eps=epsilon, min_samples=2, metric='haversine').fit(df[['latitude', 'longitude']])\n",
        "    df['cluster'] = model.labels_.tolist()\n",
        "\n",
        "    input_name_clusters = []\n",
        "    for i in range(len(df)):\n",
        "        if df['id'][i] == input_name:\n",
        "            if df['cluster'][i] in input_name_clusters:\n",
        "                pass\n",
        "            else:\n",
        "                input_name_clusters.append(df['cluster'][i])\n",
        "\n",
        "    infected_names = []\n",
        "    for cluster in input_name_clusters:\n",
        "        if cluster != -1:\n",
        "            ids_in_cluster = df.loc[df['cluster'] == cluster, 'id']\n",
        "            for i in range(len(ids_in_cluster)):\n",
        "                member_id = ids_in_cluster.iloc[i]\n",
        "                if (member_id not in infected_names) and (member_id != input_name):\n",
        "                    infected_names.append(member_id)\n",
        "                else:\n",
        "                    pass\n",
        "    return infected_names\n",
        "\n",
        "abels = model.labels_\n",
        "fig = plt.figure(figsize=(12,10))\n",
        "sns.scatterplot(df['latitude'], df['longitude'], hue = ['cluster-{}'.format(x) for x in labels])\n",
        "plt.legend(bbox_to_anchor = [1, 1])\n",
        "plt.show()\n",
        "\n",
        "print(get_infected_names(\"Erin\"))"
      ]
    }
  ]
}